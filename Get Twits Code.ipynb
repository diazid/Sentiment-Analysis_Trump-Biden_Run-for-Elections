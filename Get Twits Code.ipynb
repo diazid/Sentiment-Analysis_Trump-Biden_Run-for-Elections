{
 "cells": [
  {
   "cell_type": "markdown",
   "source": [
    "# Sentiment Analysis: Donald Trump and Joe Biden Reelection Run in 2024"
   ],
   "metadata": {
    "collapsed": false
   }
  },
  {
   "cell_type": "markdown",
   "source": [
    "## Description"
   ],
   "metadata": {
    "collapsed": false
   }
  },
  {
   "cell_type": "markdown",
   "source": [
    "This part of the project will be the develop of the code to gather the real time data from the Twitter API. The data will be used to perform a sentiment analysis of the tweets about Donald Trump and Joe Biden reelection run in 2024.\n",
    "\n"
   ],
   "metadata": {
    "collapsed": false
   }
  },
  {
   "cell_type": "markdown",
   "source": [
    "## Gathering Data"
   ],
   "metadata": {
    "collapsed": false
   }
  },
  {
   "cell_type": "code",
   "execution_count": 1,
   "outputs": [
    {
     "data": {
      "text/plain": "dict_keys(['consumer-key', 'consumer-key-secret', 'access-token', 'access-token-secret', 'bearer-token'])"
     },
     "execution_count": 1,
     "metadata": {},
     "output_type": "execute_result"
    }
   ],
   "source": [
    "import json\n",
    "with open(\"C:/Users/diazi/.secret/twitter_api.json\") as f:\n",
    "    keys = json.load(f)\n",
    "\n",
    "keys.keys()"
   ],
   "metadata": {
    "collapsed": false
   }
  },
  {
   "cell_type": "code",
   "execution_count": 2,
   "outputs": [],
   "source": [
    "## tokens\n",
    "bearer_token = keys['bearer-token']\n",
    "consumer_key = keys['consumer-key']\n",
    "consumer_secret = keys['consumer-key-secret']\n",
    "access_key = keys['access-token']\n",
    "access_secret = keys['access-token-secret']"
   ],
   "metadata": {
    "collapsed": false
   }
  },
  {
   "cell_type": "markdown",
   "source": [
    "**Setting up the connection to the Twitter API**"
   ],
   "metadata": {
    "collapsed": false
   }
  },
  {
   "cell_type": "code",
   "execution_count": 5,
   "outputs": [],
   "source": [
    "import tweepy\n",
    "import csv\n",
    "import json\n",
    "import sys\n",
    "import datetime"
   ],
   "metadata": {
    "collapsed": false
   }
  },
  {
   "cell_type": "code",
   "execution_count": 7,
   "outputs": [],
   "source": [
    "file_name = 'elections2024.csv'"
   ],
   "metadata": {
    "collapsed": false
   }
  },
  {
   "cell_type": "code",
   "execution_count": 8,
   "outputs": [
    {
     "name": "stdout",
     "output_type": "stream",
     "text": [
      "Encountered streaming error ( 404 )\n",
      "Encountered streaming error ( 404 )\n",
      "Encountered streaming error ( 404 )\n",
      "Encountered streaming error ( 404 )\n",
      "Encountered streaming error ( 404 )\n"
     ]
    },
    {
     "ename": "KeyboardInterrupt",
     "evalue": "",
     "output_type": "error",
     "traceback": [
      "\u001B[1;31m---------------------------------------------------------------------------\u001B[0m",
      "\u001B[1;31mKeyboardInterrupt\u001B[0m                         Traceback (most recent call last)",
      "Cell \u001B[1;32mIn[8], line 62\u001B[0m\n\u001B[0;32m     57\u001B[0m     writer\u001B[38;5;241m.\u001B[39mwriterow([\u001B[38;5;124m'\u001B[39m\u001B[38;5;124mdate\u001B[39m\u001B[38;5;124m'\u001B[39m, \u001B[38;5;124m'\u001B[39m\u001B[38;5;124mid\u001B[39m\u001B[38;5;124m'\u001B[39m,\u001B[38;5;124m'\u001B[39m\u001B[38;5;124mscreen_name\u001B[39m\u001B[38;5;124m'\u001B[39m, \u001B[38;5;124m'\u001B[39m\u001B[38;5;124mis_retweet\u001B[39m\u001B[38;5;124m'\u001B[39m,\u001B[38;5;124m'\u001B[39m\u001B[38;5;124mis_quote\u001B[39m\u001B[38;5;124m'\u001B[39m, \u001B[38;5;124m'\u001B[39m\u001B[38;5;124mtext\u001B[39m\u001B[38;5;124m'\u001B[39m, \u001B[38;5;124m'\u001B[39m\u001B[38;5;124mquoted_text\u001B[39m\u001B[38;5;124m'\u001B[39m, \u001B[38;5;124m'\u001B[39m\u001B[38;5;124mentities\u001B[39m\u001B[38;5;124m'\u001B[39m, \u001B[38;5;124m'\u001B[39m\u001B[38;5;124mgeo\u001B[39m\u001B[38;5;124m'\u001B[39m,\n\u001B[0;32m     58\u001B[0m                      \u001B[38;5;124m'\u001B[39m\u001B[38;5;124mcoordinates\u001B[39m\u001B[38;5;124m'\u001B[39m, \u001B[38;5;124m'\u001B[39m\u001B[38;5;124mplace\u001B[39m\u001B[38;5;124m'\u001B[39m, \u001B[38;5;124m'\u001B[39m\u001B[38;5;124mretweet_count\u001B[39m\u001B[38;5;124m'\u001B[39m, \u001B[38;5;124m'\u001B[39m\u001B[38;5;124mfavorite_count\u001B[39m\u001B[38;5;124m'\u001B[39m, \u001B[38;5;124m'\u001B[39m\u001B[38;5;124mlang\u001B[39m\u001B[38;5;124m'\u001B[39m\n\u001B[0;32m     59\u001B[0m                      ])\n\u001B[0;32m     61\u001B[0m tags \u001B[38;5;241m=\u001B[39m [\u001B[38;5;124m'\u001B[39m\u001B[38;5;124m#elections2024\u001B[39m\u001B[38;5;124m'\u001B[39m, \u001B[38;5;124m'\u001B[39m\u001B[38;5;124m#trump2024\u001B[39m\u001B[38;5;124m'\u001B[39m, \u001B[38;5;124m'\u001B[39m\u001B[38;5;124m#biden2024\u001B[39m\u001B[38;5;124m'\u001B[39m, \u001B[38;5;124m'\u001B[39m\u001B[38;5;124m#donaldtrump2024\u001B[39m\u001B[38;5;124m'\u001B[39m, \u001B[38;5;124m'\u001B[39m\u001B[38;5;124m#joebiden2024\u001B[39m\u001B[38;5;124m'\u001B[39m]\n\u001B[1;32m---> 62\u001B[0m \u001B[43mstream\u001B[49m\u001B[38;5;241;43m.\u001B[39;49m\u001B[43mfilter\u001B[49m\u001B[43m(\u001B[49m\u001B[43mtrack\u001B[49m\u001B[38;5;241;43m=\u001B[39;49m\u001B[43mtags\u001B[49m\u001B[43m)\u001B[49m\n",
      "File \u001B[1;32m~\\anaconda3\\envs\\twit\\lib\\site-packages\\tweepy\\streaming.py:474\u001B[0m, in \u001B[0;36mStream.filter\u001B[1;34m(self, follow, track, is_async, locations, stall_warnings, languages, encoding, filter_level)\u001B[0m\n\u001B[0;32m    472\u001B[0m     \u001B[38;5;28mself\u001B[39m\u001B[38;5;241m.\u001B[39mbody[\u001B[38;5;124m'\u001B[39m\u001B[38;5;124mfilter_level\u001B[39m\u001B[38;5;124m'\u001B[39m] \u001B[38;5;241m=\u001B[39m filter_level\u001B[38;5;241m.\u001B[39mencode(encoding)\n\u001B[0;32m    473\u001B[0m \u001B[38;5;28mself\u001B[39m\u001B[38;5;241m.\u001B[39msession\u001B[38;5;241m.\u001B[39mparams \u001B[38;5;241m=\u001B[39m {\u001B[38;5;124m'\u001B[39m\u001B[38;5;124mdelimited\u001B[39m\u001B[38;5;124m'\u001B[39m: \u001B[38;5;124m'\u001B[39m\u001B[38;5;124mlength\u001B[39m\u001B[38;5;124m'\u001B[39m}\n\u001B[1;32m--> 474\u001B[0m \u001B[38;5;28;43mself\u001B[39;49m\u001B[38;5;241;43m.\u001B[39;49m\u001B[43m_start\u001B[49m\u001B[43m(\u001B[49m\u001B[43mis_async\u001B[49m\u001B[43m)\u001B[49m\n",
      "File \u001B[1;32m~\\anaconda3\\envs\\twit\\lib\\site-packages\\tweepy\\streaming.py:389\u001B[0m, in \u001B[0;36mStream._start\u001B[1;34m(self, is_async)\u001B[0m\n\u001B[0;32m    387\u001B[0m     \u001B[38;5;28mself\u001B[39m\u001B[38;5;241m.\u001B[39m_thread\u001B[38;5;241m.\u001B[39mstart()\n\u001B[0;32m    388\u001B[0m \u001B[38;5;28;01melse\u001B[39;00m:\n\u001B[1;32m--> 389\u001B[0m     \u001B[38;5;28;43mself\u001B[39;49m\u001B[38;5;241;43m.\u001B[39;49m\u001B[43m_run\u001B[49m\u001B[43m(\u001B[49m\u001B[43m)\u001B[49m\n",
      "File \u001B[1;32m~\\anaconda3\\envs\\twit\\lib\\site-packages\\tweepy\\streaming.py:281\u001B[0m, in \u001B[0;36mStream._run\u001B[1;34m(self)\u001B[0m\n\u001B[0;32m    278\u001B[0m     \u001B[38;5;28;01mif\u001B[39;00m resp\u001B[38;5;241m.\u001B[39mstatus_code \u001B[38;5;241m==\u001B[39m \u001B[38;5;241m420\u001B[39m:\n\u001B[0;32m    279\u001B[0m         \u001B[38;5;28mself\u001B[39m\u001B[38;5;241m.\u001B[39mretry_time \u001B[38;5;241m=\u001B[39m \u001B[38;5;28mmax\u001B[39m(\u001B[38;5;28mself\u001B[39m\u001B[38;5;241m.\u001B[39mretry_420_start,\n\u001B[0;32m    280\u001B[0m                               \u001B[38;5;28mself\u001B[39m\u001B[38;5;241m.\u001B[39mretry_time)\n\u001B[1;32m--> 281\u001B[0m     \u001B[43msleep\u001B[49m\u001B[43m(\u001B[49m\u001B[38;5;28;43mself\u001B[39;49m\u001B[38;5;241;43m.\u001B[39;49m\u001B[43mretry_time\u001B[49m\u001B[43m)\u001B[49m\n\u001B[0;32m    282\u001B[0m     \u001B[38;5;28mself\u001B[39m\u001B[38;5;241m.\u001B[39mretry_time \u001B[38;5;241m=\u001B[39m \u001B[38;5;28mmin\u001B[39m(\u001B[38;5;28mself\u001B[39m\u001B[38;5;241m.\u001B[39mretry_time \u001B[38;5;241m*\u001B[39m \u001B[38;5;241m2\u001B[39m,\n\u001B[0;32m    283\u001B[0m                           \u001B[38;5;28mself\u001B[39m\u001B[38;5;241m.\u001B[39mretry_time_cap)\n\u001B[0;32m    284\u001B[0m \u001B[38;5;28;01melse\u001B[39;00m:\n",
      "\u001B[1;31mKeyboardInterrupt\u001B[0m: "
     ]
    }
   ],
   "source": [
    "# StreamListener class inherits from tweepy.StreamListener and overrides on_status/on_error methods.\n",
    "class StreamListener(tweepy.StreamListener):\n",
    "    def on_status(self, status):\n",
    "        print(status.id_str)\n",
    "        # if \"retweeted_status\" attribute exists, flag this tweet as a retweet.\n",
    "        is_retweet = hasattr(status, \"retweeted_status\")\n",
    "\n",
    "        # check if text has been truncated\n",
    "        if hasattr(status,\"extended_tweet\"):\n",
    "            text = status.extended_tweet[\"full_text\"]\n",
    "        else:\n",
    "            text = status.text\n",
    "\n",
    "        # check if this is a quote tweet.\n",
    "        is_quote = hasattr(status, \"quoted_status\")\n",
    "        quoted_text = \"\"\n",
    "        if is_quote:\n",
    "            # check if quoted tweet's text has been truncated before recording it\n",
    "            if hasattr(status.quoted_status,\"extended_tweet\"):\n",
    "                quoted_text = status.quoted_status.extended_tweet[\"full_text\"]\n",
    "            else:\n",
    "                quoted_text = status.quoted_status.text\n",
    "\n",
    "        # remove characters that might cause problems with csv encoding\n",
    "        remove_characters = [\",\",\"\\n\"]\n",
    "        for c in remove_characters:\n",
    "            text.replace(c,\" \")\n",
    "            quoted_text.replace(c, \" \")\n",
    "\n",
    "        with open(file_name, \"a\", encoding='utf-8') as f:\n",
    "            #para csv\n",
    "            writer = csv.writer(f)\n",
    "            writer.writerow([status.created_at,status.id, status.user.screen_name,is_retweet,is_quote,text,quoted_text, status.entities, status.geo,\n",
    "                             status.coordinates, status.place, status.retweet_count, status.favorite_count, status.lang\n",
    "                             ])\n",
    "            #para txt\n",
    "            #f.write(\"%s,%s,%s,%s,%s,%s\\n\" % (status.created_at,status.user.screen_name,is_retweet,is_quote,text,quoted_text))\n",
    "\n",
    "    def on_error(self, status_code):\n",
    "        print(\"Encountered streaming error (\", status_code, \")\")\n",
    "        pass\n",
    "\n",
    "if __name__ == \"__main__\":\n",
    "    # complete authorization and initialize API endpoint\n",
    "    auth = tweepy.OAuthHandler(consumer_key, consumer_secret)\n",
    "    auth.set_access_token(access_key, access_secret)\n",
    "    api = tweepy.API(auth)\n",
    "\n",
    "    # initialize stream\n",
    "    streamListener = StreamListener()\n",
    "    stream = tweepy.Stream(auth=api.auth, listener=streamListener,tweet_mode='extended')\n",
    "\n",
    "    #with open(\"data/first100days.txt\", \"w\", encoding='utf-8') as f:\n",
    "    #    f.write(\"date,user,is_retweet,is_quote,text,quoted_text\\n\")\n",
    "    with open(file_name, 'w') as f:\n",
    "        writer = csv.writer(f)\n",
    "        writer.writerow(['date', 'id','screen_name', 'is_retweet','is_quote', 'text', 'quoted_text', 'entities', 'geo',\n",
    "                         'coordinates', 'place', 'retweet_count', 'favorite_count', 'lang'\n",
    "                         ])\n",
    "\n",
    "    tags = ['#elections2024', '#trump2024', '#biden2024', '#donaldtrump2024', '#joebiden2024']\n",
    "    stream.filter(track=tags)"
   ],
   "metadata": {
    "collapsed": false
   }
  },
  {
   "cell_type": "code",
   "execution_count": 10,
   "outputs": [],
   "source": [
    "import csv\n",
    "import requests\n",
    "from datetime import datetime, timedelta\n",
    "import json\n",
    "\n",
    "class TwitterData:\n",
    "    def __init__(self, bearer_token):\n",
    "        self.bearer_token = bearer_token\n",
    "        self.base_url = \"https://api.twitter.com/2/tweets/sample/stream\"\n",
    "        self.headers = {\"Authorization\": f\"Bearer {self.bearer_token}\"}\n",
    "        self.filename = f\"twitter_data_{datetime.now().strftime('%Y-%m-%d_%H-%M-%S')}.csv\"\n",
    "        self.fieldnames = ['id', 'text', 'attachments', 'author_id', 'context_annotations',\n",
    "                           'conversation_id', 'created_at', 'entities', 'geo', 'in_reply_to_user_id',\n",
    "                           'lang', 'non_public_metrics', 'organic_metrics', 'possibly_sensitive',\n",
    "                           'promoted_metrics', 'public_metrics', 'referenced_tweets', 'reply_settings',\n",
    "                           'source', 'withheld']\n",
    "        self.start_time = datetime.now()\n",
    "\n",
    "    def get_data(self):\n",
    "        with open(self.filename, mode='w', newline='', encoding='utf-8') as file:\n",
    "            writer = csv.DictWriter(file, fieldnames=self.fieldnames)\n",
    "            writer.writeheader()\n",
    "            response = requests.get(self.base_url, headers=self.headers, stream=True)\n",
    "            for response_line in response.iter_lines():\n",
    "                if datetime.now() - self.start_time >= timedelta(hours=1):\n",
    "                    self.filename = f\"twitter_data_{datetime.now().strftime('%Y-%m-%d_%H-%M-%S')}.csv\"\n",
    "                    file.close()\n",
    "                    file = open(self.filename, mode='w', newline='', encoding='utf-8')\n",
    "                    writer = csv.DictWriter(file, fieldnames=self.fieldnames)\n",
    "                    writer.writeheader()\n",
    "                    self.start_time = datetime.now()\n",
    "                if response_line:\n",
    "                    tweet = response_line.json()\n",
    "                    writer.writerow({field: tweet.get(field) for field in self.fieldnames})"
   ],
   "metadata": {
    "collapsed": false
   }
  },
  {
   "cell_type": "code",
   "execution_count": 11,
   "outputs": [
    {
     "ename": "AttributeError",
     "evalue": "'bytes' object has no attribute 'json'",
     "output_type": "error",
     "traceback": [
      "\u001B[1;31m---------------------------------------------------------------------------\u001B[0m",
      "\u001B[1;31mAttributeError\u001B[0m                            Traceback (most recent call last)",
      "Cell \u001B[1;32mIn[11], line 3\u001B[0m\n\u001B[0;32m      1\u001B[0m \u001B[38;5;28;01mif\u001B[39;00m \u001B[38;5;18m__name__\u001B[39m \u001B[38;5;241m==\u001B[39m \u001B[38;5;124m\"\u001B[39m\u001B[38;5;124m__main__\u001B[39m\u001B[38;5;124m\"\u001B[39m:\n\u001B[0;32m      2\u001B[0m     twitter_data \u001B[38;5;241m=\u001B[39m TwitterData(bearer_token)\n\u001B[1;32m----> 3\u001B[0m     \u001B[43mtwitter_data\u001B[49m\u001B[38;5;241;43m.\u001B[39;49m\u001B[43mget_data\u001B[49m\u001B[43m(\u001B[49m\u001B[43m)\u001B[49m\n",
      "Cell \u001B[1;32mIn[10], line 32\u001B[0m, in \u001B[0;36mTwitterData.get_data\u001B[1;34m(self)\u001B[0m\n\u001B[0;32m     30\u001B[0m     \u001B[38;5;28mself\u001B[39m\u001B[38;5;241m.\u001B[39mstart_time \u001B[38;5;241m=\u001B[39m datetime\u001B[38;5;241m.\u001B[39mnow()\n\u001B[0;32m     31\u001B[0m \u001B[38;5;28;01mif\u001B[39;00m response_line:\n\u001B[1;32m---> 32\u001B[0m     tweet \u001B[38;5;241m=\u001B[39m \u001B[43mresponse_line\u001B[49m\u001B[38;5;241;43m.\u001B[39;49m\u001B[43mjson\u001B[49m()\n\u001B[0;32m     33\u001B[0m     writer\u001B[38;5;241m.\u001B[39mwriterow({field: tweet\u001B[38;5;241m.\u001B[39mget(field) \u001B[38;5;28;01mfor\u001B[39;00m field \u001B[38;5;129;01min\u001B[39;00m \u001B[38;5;28mself\u001B[39m\u001B[38;5;241m.\u001B[39mfieldnames})\n",
      "\u001B[1;31mAttributeError\u001B[0m: 'bytes' object has no attribute 'json'"
     ]
    }
   ],
   "source": [
    "if __name__ == \"__main__\":\n",
    "    twitter_data = TwitterData(bearer_token)\n",
    "    twitter_data.get_data()"
   ],
   "metadata": {
    "collapsed": false
   }
  },
  {
   "cell_type": "code",
   "execution_count": null,
   "outputs": [],
   "source": [],
   "metadata": {
    "collapsed": false
   }
  }
 ],
 "metadata": {
  "kernelspec": {
   "name": "twit",
   "language": "python",
   "display_name": "twit"
  },
  "language_info": {
   "codemirror_mode": {
    "name": "ipython",
    "version": 2
   },
   "file_extension": ".py",
   "mimetype": "text/x-python",
   "name": "python",
   "nbconvert_exporter": "python",
   "pygments_lexer": "ipython2",
   "version": "2.7.6"
  }
 },
 "nbformat": 4,
 "nbformat_minor": 0
}
