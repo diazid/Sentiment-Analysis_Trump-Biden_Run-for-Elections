{
 "cells": [
  {
   "cell_type": "markdown",
   "source": [
    "# Sentiment Analysis: Donald Trump and Joe Biden Reelection Run in 2024"
   ],
   "metadata": {
    "collapsed": false
   }
  },
  {
   "cell_type": "markdown",
   "source": [
    "## Description"
   ],
   "metadata": {
    "collapsed": false
   }
  },
  {
   "cell_type": "markdown",
   "source": [
    "This part of the project will be the develop of the code to gather the real time data from the Twitter API. The data will be used to perform a sentiment analysis of the tweets about Donald Trump and Joe Biden reelection run in 2024.\n",
    "\n"
   ],
   "metadata": {
    "collapsed": false
   }
  },
  {
   "cell_type": "markdown",
   "source": [
    "## Gathering Data"
   ],
   "metadata": {
    "collapsed": false
   }
  },
  {
   "cell_type": "code",
   "execution_count": 5,
   "metadata": {
    "collapsed": true
   },
   "outputs": [
    {
     "ename": "ImportError",
     "evalue": "cannot import name 'StreamListener' from 'tweepy.streaming' (C:\\Users\\diazi\\anaconda3\\envs\\scrap\\lib\\site-packages\\tweepy\\streaming.py)",
     "output_type": "error",
     "traceback": [
      "\u001B[1;31m---------------------------------------------------------------------------\u001B[0m",
      "\u001B[1;31mImportError\u001B[0m                               Traceback (most recent call last)",
      "Cell \u001B[1;32mIn[5], line 4\u001B[0m\n\u001B[0;32m      1\u001B[0m \u001B[38;5;66;03m# Importing libraries\u001B[39;00m\n\u001B[0;32m      3\u001B[0m \u001B[38;5;28;01mimport\u001B[39;00m \u001B[38;5;21;01mtweepy\u001B[39;00m\n\u001B[1;32m----> 4\u001B[0m \u001B[38;5;28;01mfrom\u001B[39;00m \u001B[38;5;21;01mtweepy\u001B[39;00m\u001B[38;5;21;01m.\u001B[39;00m\u001B[38;5;21;01mstreaming\u001B[39;00m \u001B[38;5;28;01mimport\u001B[39;00m StreamListener\n\u001B[0;32m      5\u001B[0m \u001B[38;5;28;01mimport\u001B[39;00m \u001B[38;5;21;01mpandas\u001B[39;00m \u001B[38;5;28;01mas\u001B[39;00m \u001B[38;5;21;01mpd\u001B[39;00m\n\u001B[0;32m      6\u001B[0m \u001B[38;5;28;01mimport\u001B[39;00m \u001B[38;5;21;01mnumpy\u001B[39;00m \u001B[38;5;28;01mas\u001B[39;00m \u001B[38;5;21;01mnp\u001B[39;00m\n",
      "\u001B[1;31mImportError\u001B[0m: cannot import name 'StreamListener' from 'tweepy.streaming' (C:\\Users\\diazi\\anaconda3\\envs\\scrap\\lib\\site-packages\\tweepy\\streaming.py)"
     ]
    }
   ],
   "source": [
    "# Importing libraries\n",
    "\n",
    "import tweepy\n",
    "from tweepy.streaming import \n",
    "import pandas as pd\n",
    "import numpy as np\n",
    "import matplotlib.pyplot as plt\n",
    "import seaborn as sns\n",
    "import csv\n",
    "import time\n",
    "import os\n",
    "import datetime\n",
    "import json\n"
   ]
  },
  {
   "cell_type": "code",
   "execution_count": 3,
   "outputs": [
    {
     "ename": "AttributeError",
     "evalue": "module 'tweepy' has no attribute 'StreamListener'",
     "output_type": "error",
     "traceback": [
      "\u001B[1;31m---------------------------------------------------------------------------\u001B[0m",
      "\u001B[1;31mAttributeError\u001B[0m                            Traceback (most recent call last)",
      "Cell \u001B[1;32mIn[3], line 2\u001B[0m\n\u001B[0;32m      1\u001B[0m \u001B[38;5;66;03m## Write a class to gather the data from the Twitter API\u001B[39;00m\n\u001B[1;32m----> 2\u001B[0m \u001B[38;5;28;01mclass\u001B[39;00m \u001B[38;5;21;01mTwitterStreamListener\u001B[39;00m(\u001B[43mtweepy\u001B[49m\u001B[38;5;241;43m.\u001B[39;49m\u001B[43mStreamListener\u001B[49m):\n\u001B[0;32m      3\u001B[0m     \u001B[38;5;28;01mdef\u001B[39;00m \u001B[38;5;21m__init__\u001B[39m(\u001B[38;5;28mself\u001B[39m, consumer_key, consumer_secret, access_token, access_token_secret, keywords):\n\u001B[0;32m      4\u001B[0m         \u001B[38;5;28msuper\u001B[39m()\u001B[38;5;241m.\u001B[39m\u001B[38;5;21m__init__\u001B[39m()\n",
      "\u001B[1;31mAttributeError\u001B[0m: module 'tweepy' has no attribute 'StreamListener'"
     ]
    }
   ],
   "source": [
    "## Write a class to gather the data from the Twitter API\n",
    "class TwitterStreamListener(tweepy.StreamListener):\n",
    "    def __init__(self, consumer_key, consumer_secret, access_token, access_token_secret, keywords):\n",
    "        super().__init__()\n",
    "        self.consumer_key = consumer_key\n",
    "        self.consumer_secret = consumer_secret\n",
    "        self.access_token = access_token\n",
    "        self.access_token_secret = access_token_secret\n",
    "        self.keywords = keywords\n",
    "        self.file_name = datetime.datetime.now().strftime(\"%Y-%m-%d_%H-%M-%S\") + \".csv\"\n",
    "        self.df = pd.DataFrame(columns=[\"id\", \"text\", \"created_at\", \"user_location\", \"place\"])\n",
    "\n",
    "    def on_status(self, status):\n",
    "        if status.place is not None and \"United States\" in status.place.full_name:\n",
    "            self.df = self.df.append({\n",
    "                \"id\": status.id,\n",
    "                \"text\": status.text,\n",
    "                \"created_at\": status.created_at,\n",
    "                \"user_location\": status.user.location,\n",
    "                \"place\": status.place.full_name\n",
    "            }, ignore_index=True)\n",
    "\n",
    "    def on_error(self, status_code):\n",
    "        if status_code == 420:\n",
    "            return False\n",
    "\n",
    "    def save_tweets(self):\n",
    "        if not os.path.exists(\"data\"):\n",
    "            os.makedirs(\"data\")\n",
    "        self.df.to_csv(\"data/\" + self.file_name, index=False)\n",
    "\n",
    "    def start_stream(self):\n",
    "        auth = tweepy.OAuthHandler(self.consumer_key, self.consumer_secret)\n",
    "        auth.set_access_token(self.access_token, self.access_token_secret)\n",
    "        stream = tweepy.Stream(auth, self)\n",
    "        stream.filter(track=self.keywords, is_async=True)\n",
    "\n",
    "        while True:\n",
    "            self.save_tweets()\n",
    "            self.df = pd.DataFrame(columns=[\"id\", \"text\", \"created_at\", \"user_location\", \"place\"])\n",
    "            time.sleep(3600)  # wait 1 hour before saving more data"
   ],
   "metadata": {
    "collapsed": false
   }
  },
  {
   "cell_type": "code",
   "execution_count": 3,
   "outputs": [
    {
     "data": {
      "text/plain": "dict_keys(['consumer-key', 'consumer-key-secret', 'access-token', 'access-token-secret', 'bearer-token'])"
     },
     "execution_count": 3,
     "metadata": {},
     "output_type": "execute_result"
    }
   ],
   "source": [
    "## load json file with keys\n",
    "with open(\"C:/Users/diazi/.secret/twitter_api.json\") as json_file:\n",
    "    keys = json.load(json_file)\n",
    "keys.keys()"
   ],
   "metadata": {
    "collapsed": false
   }
  },
  {
   "cell_type": "code",
   "execution_count": 4,
   "outputs": [],
   "source": [
    "## set keys\n",
    "\n",
    "consumer_key = keys[\"consumer-key\"]\n",
    "consumer_secret = keys[\"consumer-key-secret\"]\n",
    "access_token = keys[\"access-token\"]\n",
    "access_token_secret = keys[\"access-token-secret\"]\n",
    "keywords = [\"election 2024\", \"presidential race 2024\", \"candidate 2024\"]\n",
    "location = \"-126.33,24.84,-65.94,49.38\"  # bounding box of the US\n"
   ],
   "metadata": {
    "collapsed": false
   }
  },
  {
   "cell_type": "code",
   "execution_count": 5,
   "outputs": [
    {
     "ename": "KeyboardInterrupt",
     "evalue": "",
     "output_type": "error",
     "traceback": [
      "\u001B[1;31m---------------------------------------------------------------------------\u001B[0m",
      "\u001B[1;31mKeyboardInterrupt\u001B[0m                         Traceback (most recent call last)",
      "File \u001B[1;32m<timed exec>:5\u001B[0m\n",
      "\u001B[1;31mKeyboardInterrupt\u001B[0m: "
     ]
    }
   ],
   "source": [
    "%%time\n",
    "twitter_data = TwitterData(consumer_key, consumer_secret, access_token, access_token_secret, keywords, location)\n",
    "\n",
    "while True:\n",
    "    twitter_data.get_tweets()\n",
    "    time.sleep(36)  # wait 1 hour before getting more data\n"
   ],
   "metadata": {
    "collapsed": false
   }
  },
  {
   "cell_type": "code",
   "execution_count": 5,
   "outputs": [],
   "source": [],
   "metadata": {
    "collapsed": false
   }
  }
 ],
 "metadata": {
  "kernelspec": {
   "name": "scrap",
   "language": "python",
   "display_name": "scrap"
  },
  "language_info": {
   "codemirror_mode": {
    "name": "ipython",
    "version": 2
   },
   "file_extension": ".py",
   "mimetype": "text/x-python",
   "name": "python",
   "nbconvert_exporter": "python",
   "pygments_lexer": "ipython2",
   "version": "2.7.6"
  }
 },
 "nbformat": 4,
 "nbformat_minor": 0
}
